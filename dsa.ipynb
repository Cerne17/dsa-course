{
 "cells": [
  {
   "cell_type": "markdown",
   "metadata": {},
   "source": [
    "# Data Structures and Algorithms Course\n",
    "This course is aimed for anyone that wants to dive a little further on data structures and algorithms.\n",
    "Although it's a guide in a little more depth, it does not focus on being scientifically accurate nor in being verbose (I am going to talk about difficult subjects in a way that it's not boring to death)\n",
    "<hr>\n",
    "Credits: Miguel Badany Cerne (Cerne17)\n",
    "<hr>"
   ]
  },
  {
   "cell_type": "markdown",
   "metadata": {},
   "source": [
    "# Glossary:\n",
    "- 1. Introduction (10 minutes)\n",
    "    - 1.1. What is a data structure? (3 minutes)\n",
    "        - 1.1.1. Definition\n",
    "        - 1.1.2. Purpose\n",
    "        - 1.1.3. Types of data structure\n",
    "        - 1.1.4. Why learn data structures\n",
    "        - 1.1.5. Some common examples\n",
    "        - 1.1.6. Summary\n",
    "        - 1.1.7. Links (TODO)\n",
    "    - 1.2. What is an algorithm? (7 minutes)\n",
    "        - 1.2.1. Definition\n",
    "        - 1.2.2. Purpose\n",
    "        - 1.2.3. Characteristics\n",
    "        - 1.2.4. Types of algorithms\n",
    "        - 1.2.5. Why learn algorithm\n",
    "        - 1.2.6. Common examples\n",
    "        - 1.2.7. Links (TODO)"
   ]
  },
  {
   "cell_type": "markdown",
   "metadata": {},
   "source": [
    "# 1. Introduction\n",
    "## 1.1. What is a data structure?\n",
    "### 1.1.1. Definition:\n",
    "- A way to organize & store data in a computer for efficient access and modification\n",
    "### 1.1.2. Purpose:\n",
    "- Manage large amounts of data\n",
    "### 1.1.3. Types of data structures\n",
    "- Nodes\n",
    "- Arrays\n",
    "- Linked Lists\n",
    "- Stacks\n",
    "- Queues\n",
    "- Trees\n",
    "- ...\n",
    "### 1.1.4. Why learn data structures\n",
    "- Crucial for efficiency in *algorithms* and softwares\n",
    "- Optimization\n",
    "### 1.1.5. Some common examples (to be seen here)\n",
    "- Phonebook\n",
    "- Bookshelf\n",
    "- Waiting Line\n",
    "- Family Tree\n",
    "- Friends in Social Media\n",
    "### 1.1.6. Summary\n",
    "- A specific way to organize the data in a *program*\n",
    "- There are many different ways to organize data, the best one depends on the use case\n",
    "### 1.1.7. Links (TODO)\n",
    "## 1.2. What is an algorithm?\n",
    "### 1.2.1. Definition\n",
    "- A step-by-step procedure or formula to solve a problem or to perform a task\n",
    "- A black box that may receive *inputs*, apply some transformations and return some *outputs*\n",
    "### 1.2.2. Purpose\n",
    "- Provide a clear set of instructions to achieve a specific goal or to solve a problem efficiently\n",
    "### 1.2.3. Characteristics\n",
    "- Finite: Has a clear start and end\n",
    "- Definite: Each step is precisely defined\n",
    "- Input: Data that is passed into the algorithm; may receive zero or more inputs\n",
    "- Output: Data returned from the algorithm\n",
    "- Effectiveness: Steps should be efficient\n",
    "### 1.2.4. Types of algorithms\n",
    "- Sorting\n",
    "- Searching\n",
    "- Graph\n",
    "- Dynamic Programming\n",
    "- Greedy Algorithms\n",
    "- ...\n",
    "### 1.2.5. Why learn algorithm\n",
    "### 1.2.6. Common examples\n",
    "### 1.2.7. Links (TODO)"
   ]
  }
 ],
 "metadata": {
  "language_info": {
   "name": "python"
  }
 },
 "nbformat": 4,
 "nbformat_minor": 2
}
