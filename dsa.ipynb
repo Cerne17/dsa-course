{
 "cells": [
  {
   "cell_type": "markdown",
   "metadata": {},
   "source": [
    "# Data Structures and Algorithms Course\n",
    "This course is aimed for anyone that wants to dive a little further on data structures and algorithms.\n",
    "Although it's a guide in a little more depth, it does not focus on being scientifically accurate nor in being verbose (I am going to talk about difficult subjects in a way that it's not boring to death)\n",
    "<hr>\n",
    "Credits: Miguel Badany Cerne (Cerne17)\n",
    "<hr>"
   ]
  },
  {
   "cell_type": "markdown",
   "metadata": {},
   "source": [
    "# #1. Introduction"
   ]
  },
  {
   "cell_type": "markdown",
   "metadata": {},
   "source": [
    "## #1.1. What is a data structure?\n",
    "### #1.1.1. Definition:\n",
    "- A way to organize & store data in a computer for efficient access and modification\n",
    "### #1.1.2. Purpose:\n",
    "- Manage large amounts of data\n",
    "### #1.1.3. Types of data structures\n",
    "- Nodes\n",
    "- Arrays\n",
    "- Linked Lists\n",
    "- Stacks\n",
    "- Queues\n",
    "- Trees\n",
    "- ...\n",
    "### #1.1.4. Why learn data structures\n",
    "- Crucial for efficiency in *algorithms* and softwares\n",
    "- Optimization\n",
    "### #1.1.5. Some common examples (to be seen here)\n",
    "- Phonebook\n",
    "- Bookshelf\n",
    "- Waiting Line\n",
    "- Family Tree\n",
    "- Friends in Social Media\n",
    "### #1.1.6. Summary\n",
    "- A specific way to organize the data in a *program*\n",
    "- There are many different ways to organize data, the best one depends on the use case"
   ]
  },
  {
   "cell_type": "markdown",
   "metadata": {},
   "source": [
    "## #1.2. What is an algorithm?"
   ]
  }
 ],
 "metadata": {
  "language_info": {
   "name": "python"
  }
 },
 "nbformat": 4,
 "nbformat_minor": 2
}
